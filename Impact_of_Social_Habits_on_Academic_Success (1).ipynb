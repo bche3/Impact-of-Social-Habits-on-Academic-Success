{
  "cells": [
    {
      "cell_type": "markdown",
      "metadata": {
        "id": "TMnSMh1OCgrA"
      },
      "source": [
        "# Students' Family Background and Social Habits in association with Academic Success\n",
        "\n",
        "## Abstract"
      ]
    },
    {
      "cell_type": "markdown",
      "source": [
        "As students who are trying to maintain a respectable GPA, we're curious about all the different factors that might influence academic performace, from family background to social habits to study skills and beyond. We were therefore excited to read the paper this data set came from, which used several sophisticated models to try to untangle the relationships between these variables based on information collected at a pair of Portuguese schools.  We wanted to see how well a multiple regression model could use the information about each student to predict their average grades, and what the feature coefficients might suggest about the relative importance of family, relationships, and study skills when it comes to school.  Furthermore, would each school have its own pattern to unravel, or would both institutions exhibit the same associations?  Our regression model only ended up explaining about a third of the total variance, and we did notice that there were striking differences between schools in terms of variable coefficients.  The most consistent result was that if you want a high GPA, save the drinking for the weekend."
      ],
      "metadata": {
        "id": "3036kfo1smhY"
      }
    },
    {
      "cell_type": "markdown",
      "source": [
        "---\n",
        "# 0. Background"
      ],
      "metadata": {
        "id": "G3Ya3KazrU8X"
      }
    },
    {
      "cell_type": "markdown",
      "source": [
        "The topic of our project is seeing how certain social, demographic, and family factors affect secondary school Portuguese class student performance. Our goal is to see if any factors included in the study affect educational success/failure. Some of the factors we will be looking at are student sex and age, parent education and career status, and alcohol consumption. The motivation for collecting the kind of data we are working with is to see what affects student achievement in Portugal; specifically in Portuguese class.\n"
      ],
      "metadata": {
        "id": "d4KjazWythW5"
      }
    },
    {
      "cell_type": "markdown",
      "source": [
        "---\n",
        "# 1. Aims\n",
        "\n",
        "## Questions of focus and Approaches\n",
        "\n",
        "Our first interest is the associations of students' family backgrounds (e.g. parents' education levels, family size, etc.) and social habits (e.g. going out with friends, alcohol consumption, etc.), along with more obvious study habits (e.g. study time, number of absences) have with academic success, which in this case is measured in average grade on a 20-point. The goal of our regression modeling is to help determine what variables, or sets of variables best explain student success.\n",
        "\n",
        "Our data set includes students from two separate schools. Different schools serve different communities, both geographic and socioeconomic, so it should not be assumed that the same associations are present in each of the two schools.  After analyzing the relationships between the variables for all students, we were interested in separating the data by school and seeing if those relationships persist or break down. In order to compare the associations at the school level, we repeated the above analysis for each of the schools and compared regression coefficients to the original model.\n"
      ],
      "metadata": {
        "id": "SrIQfnrxrYKa"
      }
    },
    {
      "cell_type": "markdown",
      "source": [
        "---\n",
        "# 2. Data Description\n",
        "\n",
        "#### Sample and Measurement Information\n",
        "The data are student data (i.e school grades, social, demographic factors) collected through school reports and questionnaires. It is from the 2005 - 2006 school year from two public schools in the Alentejo region of Portugal. The data was collected by Paulo Cortez and Alice Silva who are a part of the Department Information Systems/ Algorithmi R&D Centre at the University of Minho in Portugal.The data was collected through school reports and questionnaires. The school reports were on paper including information about previous school grades and number of school absences. The questionnaire includes information about alcohol consumption, parents' occupation and family income. \n",
        "\n",
        "The population of this dataset is students in secondary schooling in Portugal. The sampling frame is students from the two public schools Alentejo region of Portugal. The sample of this dataset is 788 students. The sampling scenario that this dataset is most similar to is administrative data because all units are selected from a convenient frame that partly covers the population, but the sampling frame doesn't completely align with the population. The sampling mechanism is the sample is a census of the frame.\n",
        "\n",
        "## Data Structure\n",
        "\n",
        "> **Table 1**: Variable descriptions and units for each variable in the dataset\n",
        "\n",
        "\n",
        "Name | Variable description | Type | Units of measurement\n",
        "---|---|---|---\n",
        "School | School attended by student | Categorical | Gabriel Pereira or Mousinho da Silveira\n",
        "Sex | Sex of student | Categorical | Female or Male\n",
        "Age | Student's age | Numeric | 15 - 22\n",
        "Family Size | Family size | Categorical | Small or Large\n",
        "Family Quality | Quality of family relationships | Categorical | Very Low - Very High\n",
        "Family Support | Family educational support | Categorical | Yes or No\n",
        "Parent Status | Parent's cohabitation status | Categorical | Together or apart\n",
        "Mother Edu | Mother's Education level | Categorical | Primary Education, 5th to 9th grade, Secondary Edu, or Higher Edu\n",
        "Father Edu | Father's Education level | Categorical | Primary Education, 5th to 9th grade, Secondary Edu, or Higher Edu\n",
        "Study Time | Weekly study time | Categorical | < 2 hours, 2 to 5 hours, 5 to 10 hours, > 10 hours\n",
        "School Support | Extra educational school support | Categorical | Yes or No\n",
        "Paid Classes | Extra paid classes | Categorical | Yes or No\n",
        "Activities | Extra-curricular activities | Categorical | Yes or No\n",
        "Wants Higher Edu | Wants to take higher education | Categorical | Yes or No\n",
        "Internet | Internet access at home | Categorical | Yes or No\n",
        "Relationship | With a romantic relationship | Categorical | Yes or No\n",
        "Workday Alc | Workday alcohol consumption | Categorical | Very Low - Very High\n",
        "Weekend Alc | Weekend alcohol consumption | Categorical | Very Low - Very High\n",
        "Health | Current health status | Categorical | Very Bad - Very Good\n",
        "School Absences | Number of school absences | Numeric | 0 - 93\n",
        "Average Grade | Average of the three periods of grades | Numeric | 0 - 20"
      ],
      "metadata": {
        "id": "hhzl7l8irhnv"
      }
    },
    {
      "cell_type": "markdown",
      "source": [
        "> **Table 2**: Three example rows of the student alcohol consumption data for both schools\n",
        "\n",
        "Row | School | Sex | Age | Family Size | Family Quality | Family Support | Parent Status|Mother Edu|Father Edu|Study Time|School Absences|School Support|Paid Classes|Activities|Wants Higher Edu|Internet|Relationship|Workday Alc|Weekend Alc|Health|Average Grade\n",
        "---|---|---|---|---|---|---|---|---|---|---|---|---|---|---|---|---|---|---|---|---|---\n",
        "0 | Gabriel Pereira | F     |    18 | Large         | High             | No               | Apart           | Higher Edu   | Higher Edu   | 2 to 5 hours |                 4 | Yes              | No             | No           | Yes                | No         | No             | Very Low      | Very Low      | Fair     |         7.33333\n",
        "1 | Gabriel Pereira | F     |    17 | Large         | Very High        | Yes              | Together        | Primary Edu  | Primary Edu  | 2 to 5 hours |                 2 | No               | No             | No           | Yes                | Yes        | No             | Very Low      | Very Low      | Fair     |        10.3333\n",
        " 2 | Gabriel Pereira | F     |    15 | Small         | High             | No               | Together        | Primary Edu  | Primary Edu  | 2 to 5 hours |                 6 | Yes              | No             | No           | Yes                | Yes        | No             | Low           | Average       | Fair     |        12.3333 \n"
      ],
      "metadata": {
        "id": "FxqPSgY_zsSO"
      }
    },
    {
      "cell_type": "markdown",
      "source": [
        "> **Table 3**: Three example rows of the student alcohol consumption data for Gabriel Pereira school\n",
        "\n",
        "Row | School | Sex | Age | Family Size | Family Quality | Family Support | Parent Status|Mother Edu|Father Edu|Study Time|School Absences|School Support|Paid Classes|Activities|Wants Higher Edu|Internet|Relationship|Workday Alc|Weekend Alc|Health|Average Grade\n",
        "---|---|---|---|---|---|---|---|---|---|---|---|---|---|---|---|---|---|---|---|---|---\n",
        "0 | Gabriel Pereira | F     |    18 | Large         | High             | No               | Apart           | Higher Edu   | Higher Edu   | 2 to 5 hours |                 4 | Yes              | No             | No           | Yes                | No         | No             | Very Low      | Very Low      | Fair     |         7.33333\n",
        " 1 | Gabriel Pereira | F     |    17 | Large         | Very High        | Yes              | Together        | Primary Edu  | Primary Edu  | 2 to 5 hours |                 2 | No               | No             | No           | Yes                | Yes        | No             | Very Low      | Very Low      | Fair     |        10.3333\n",
        "2 | Gabriel Pereira | F     |    15 | Small         | High             | No               | Together        | Primary Edu  | Primary Edu  | 2 to 5 hours |                 6 | Yes              | No             | No           | Yes                | Yes        | No             | Low           | Average       | Fair     |        12.3333"
      ],
      "metadata": {
        "id": "qFdPtw5l1jQo"
      }
    },
    {
      "cell_type": "markdown",
      "source": [
        "> **Table 4**: Three example rows of the student alcohol consumption for Mousinho da Silveira school\n",
        "\n",
        "Row | School | Sex | Age | Family Size | Family Quality | Family Support | Parent Status|Mother Edu|Father Edu|Study Time|School Absences|School Support|Paid Classes|Activities|Wants Higher Edu|Internet|Relationship|Workday Alc|Weekend Alc|Health|Average Grade\n",
        "---|---|---|---|---|---|---|---|---|---|---|---|---|---|---|---|---|---|---|---|---|---\n",
        "0 | Mousinho da Silveira | F     |    16 | Large         | High             | Yes              | Together        | Primary Edu      | Secondary Edu    | < 2 hours    |                11 | No               | No             | No           | No                 | Yes        | Yes            | Very Low      | Average       | Very Good |         10.6667\n",
        "1 | Mousinho da Silveira | F     |    16 | Large         | High             | Yes              | Together        | 5th to 9th Grade | 5th to 9th Grade | 2 to 5 hours |                 0 | No               | No             | Yes          | Yes                | Yes        | No             | Very Low      | Very Low      | Very Good |         12\n",
        "2 | Mousinho da Silveira | F     |    15 | Large         | High             | Yes              | Together        | Primary Edu      | Primary Edu      | < 2 hours    |                 6 | No               | No             | No           | Yes                | No         | Yes            | Very Low      | Very Low      | Bad       |         10 "
      ],
      "metadata": {
        "id": "EBSgJV702daf"
      }
    },
    {
      "cell_type": "markdown",
      "source": [
        "---\n",
        "# 3. Methods"
      ],
      "metadata": {
        "id": "mq8M268ssV0v"
      }
    },
    {
      "cell_type": "markdown",
      "source": [
        "![visualization.png](data:image/png;base64,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)\n",
        "\n",
        "> **Figure 1**:  A heatmap representing the correlation matrix of the numerical variables.  Hotter colors represent strong, positive correlation between variables, while cooler colors represent strong, negative correlations.  Pale colors denote weak correlations."
      ],
      "metadata": {
        "id": "SvyXLKSLzAs-"
      }
    },
    {
      "cell_type": "markdown",
      "source": [
        "This is a heat map graph of all the numerical variables from the original table of por_joint which contains all data from both schools. As we can tell from the heatmap, Grade 1,2, 3 are too highly corrlated, so much so that it's clear they're all just capturing the same information.  For the model itself, the grades were averaged into a single variable.  For the same reason, number of classes failed was ignored during model building.  Age was also excluded."
      ],
      "metadata": {
        "id": "KPILqZFfzetB"
      }
    },
    {
      "cell_type": "markdown",
      "source": [
        "![visualization (1).png](data:image/png;base64,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)\n",
        "\n",
        ">**Fig 2**: Loadings of the first two principle components."
      ],
      "metadata": {
        "id": "o-sfHadZzjPs"
      }
    },
    {
      "cell_type": "markdown",
      "source": [
        "This is a graph of the loadings of first 2 principle components with respects to different variables. From the graph, we can tell that grade 1,2,3 has negative loadings with respect to PC1, but positive loadings to PC2. Age, absences and failures have positve loadings to both PC1 and PC2. Again, some of these variables are capturing the same information, which is why some variable selection was necessary before bulding the model.  "
      ],
      "metadata": {
        "id": "vrcogIyuzvkh"
      }
    },
    {
      "cell_type": "markdown",
      "source": [
        "In order to capture the influence of the categorical variables in our model, they were converted to dummy variables, resulting in the preprocessed data set used for modeling displayed below."
      ],
      "metadata": {
        "id": "MmOYY9go3IDY"
      }
    },
    {
      "cell_type": "markdown",
      "source": [
        "|    |   School Absences |   Family Size_Small |   Family Quality_High |   Family Quality_Low |   Family Quality_Very High |   Family Quality_Very Low |   Family Support_Yes |   Parent Status_Together |   Mother Edu_5th to 9th Grade |   Mother Edu_Higher Edu |   Mother Edu_Primary Edu |   Mother Edu_Secondary Edu |   Father Edu_5th to 9th Grade |   Father Edu_Higher Edu |   Father Edu_Primary Edu |   Father Edu_Secondary Edu |   Study Time_5 to 10 hours |   Study Time_< 2 hours |   Study Time_> 10 hours |   School Support_Yes |   Paid Classes_Yes |   Activities_Yes |   Wants Higher Edu_Yes |   Internet_Yes |   Relationship_Yes |   Workday Alc_High |   Workday Alc_Low |   Workday Alc_Very High |   Workday Alc_Very Low |   Weekend Alc_High |   Weekend Alc_Low |   Weekend Alc_Very High |   Weekend Alc_Very Low |   Health_Fair |   Health_Good |   Health_Very Bad |   Health_Very Good |\n",
        "|---:|------------------:|--------------------:|----------------------:|---------------------:|---------------------------:|--------------------------:|---------------------:|-------------------------:|------------------------------:|------------------------:|-------------------------:|---------------------------:|------------------------------:|------------------------:|-------------------------:|---------------------------:|---------------------------:|-----------------------:|------------------------:|---------------------:|-------------------:|-----------------:|-----------------------:|---------------:|-------------------:|-------------------:|------------------:|------------------------:|-----------------------:|-------------------:|------------------:|------------------------:|-----------------------:|--------------:|--------------:|------------------:|-------------------:|\n",
        "|  0 |                 4 |                   0 |                     1 |                    0 |                          0 |                         0 |                    0 |                        0 |                             0 |                       1 |                        0 |                          0 |                             0 |                       1 |                        0 |                          0 |                          0 |                      0 |                       0 |                    1 |                  0 |                0 |                      1 |              0 |                  0 |                  0 |                 0 |                       0 |                      1 |                  0 |                 0 |                       0 |                      1 |             1 |             0 |                 0 |                  0 |\n",
        "|  1 |                 2 |                   0 |                     0 |                    0 |                          1 |                         0 |                    1 |                        1 |                             0 |                       0 |                        1 |                          0 |                             0 |                       0 |                        1 |                          0 |                          0 |                      0 |                       0 |                    0 |                  0 |                0 |                      1 |              1 |                  0 |                  0 |                 0 |                       0 |                      1 |                  0 |                 0 |                       0 |                      1 |             1 |             0 |                 0 |                  0 |\n",
        "|  2 |                 6 |                   1 |                     1 |                    0 |                          0 |                         0 |                    0 |                        1 |                             0 |                       0 |                        1 |                          0 |                             0 |                       0 |                        1 |                          0 |                          0 |                      0 |                       0 |                    1 |                  0 |                0 |                      1 |              1 |                  0 |                  0 |                 1 |                       0 |                      0 |                  0 |                 0 |                       0 |                      0 |             1 |             0 |                 0 |                  0 |\n",
        "|  3 |                 0 |                   0 |                     0 |                    0 |                          0 |                         0 |                    1 |                        1 |                             0 |                       1 |                        0 |                          0 |                             1 |                       0 |                        0 |                          0 |                          1 |                      0 |                       0 |                    0 |                  0 |                1 |                      1 |              1 |                  1 |                  0 |                 0 |                       0 |                      1 |                  0 |                 0 |                       0 |                      1 |             0 |             0 |                 0 |                  1 |\n",
        "|  4 |                 0 |                   0 |                     1 |                    0 |                          0 |                         0 |                    1 |                        1 |                             0 |                       0 |                        0 |                          1 |                             0 |                       0 |                        0 |                          1 |                          0 |                      0 |                       0 |                    0 |                  0 |                0 |                      1 |              0 |                  0 |                  0 |                 0 |                       0 |                      1 |                  0 |                 1 |                       0 |                      0 |             0 |             0 |                 0 |                  1 |\n",
        "\n",
        ">**Table 5**: The first 5 entries of the preprocessed data set"
      ],
      "metadata": {
        "id": "OvSSDWLm3czG"
      }
    },
    {
      "cell_type": "markdown",
      "source": [
        "---\n",
        "# 4. Results"
      ],
      "metadata": {
        "id": "o9ChGWsnsZwr"
      }
    },
    {
      "cell_type": "markdown",
      "source": [
        "The results of the linear regression for the full data set are shown below:"
      ],
      "metadata": {
        "id": "2SKXIoKwhvcF"
      }
    },
    {
      "cell_type": "markdown",
      "source": [
        "|                             |   estimate |   standard error |\n",
        "|:----------------------------|-----------:|-----------------:|\n",
        "| Workday Alc_High            | -1.23893   |        0.721055  |\n",
        "| School Support_Yes          | -0.971422  |        0.328909  |\n",
        "| Family Quality_Very Low     | -0.78434   |        0.602299  |\n",
        "| Mother Edu_Primary Edu      | -0.703907  |        1.05939   |\n",
        "| Paid Classes_Yes            | -0.694276  |        0.416002  |\n",
        "| Family Quality_Low          | -0.689157  |        0.524873  |\n",
        "| Workday Alc_Very High       | -0.557395  |        0.790854  |\n",
        "| Study Time_< 2 hours        | -0.53883   |        0.238117  |\n",
        "| Health_Very Good            | -0.454113  |        0.324775  |\n",
        "| Mother Edu_5th to 9th Grade | -0.402595  |        1.06115   |\n",
        "| Relationship_Yes            | -0.377538  |        0.210527  |\n",
        "| Weekend Alc_High            | -0.371705  |        0.362176  |\n",
        "| Father Edu_Primary Edu      | -0.365572  |        0.985891  |\n",
        "| Mother Edu_Secondary Edu    | -0.279386  |        1.07228   |\n",
        "| Health_Fair                 | -0.241911  |        0.364296  |\n",
        "| Family Support_Yes          | -0.182006  |        0.207773  |\n",
        "| Family Quality_Very High    | -0.148262  |        0.316036  |\n",
        "| Weekend Alc_Very High       | -0.0607758 |        0.533744  |\n",
        "| Father Edu_5th to 9th Grade | -0.0346053 |        0.993233  |\n",
        "| School Absences             | -0.023999  |        0.0220844 |\n",
        "| Workday Alc_Low             |  0.105365  |        0.467251  |\n",
        "| Father Edu_Secondary Edu    |  0.114387  |        1.01192   |\n",
        "| Parent Status_Together      |  0.117596  |        0.317731  |\n",
        "| Activities_Yes              |  0.155585  |        0.201141  |\n",
        "| Weekend Alc_Very Low        |  0.176413  |        0.305379  |\n",
        "| Weekend Alc_Low             |  0.238099  |        0.311247  |\n",
        "| Health_Good                 |  0.285558  |        0.372684  |\n",
        "| Mother Edu_Higher Edu       |  0.332734  |        1.08024   |\n",
        "| Family Size_Small           |  0.343774  |        0.223142  |\n",
        "| Health_Very Bad             |  0.373895  |        0.388309  |\n",
        "| Workday Alc_Very Low        |  0.406766  |        0.465474  |\n",
        "| Family Quality_High         |  0.420206  |        0.290454  |\n",
        "| Father Edu_Higher Edu       |  0.438244  |        1.02384   |\n",
        "| Internet_Yes                |  0.491059  |        0.24534   |\n",
        "| Study Time_5 to 10 hours    |  0.753497  |        0.295393  |\n",
        "| Study Time_> 10 hours       |  1.1175    |        0.453911  |\n",
        "| Wants Higher Edu_Yes        |  2.28439   |        0.338025  |\n",
        "| intercept                   |  9.3427    |        1.48917   |\n",
        "\n",
        "> **Table 6**: Regression coefficients and standard errors for the predictor variables in the joint model, ordered by ascending coeficient size.  Variables with coefficients within two standard errors of 0 have been removed."
      ],
      "metadata": {
        "id": "WKe1KuJFjHCI"
      }
    },
    {
      "cell_type": "markdown",
      "source": [
        "The $R^2$ value for the joint model was 0.29, meaning the model explained about 29% of the total variance in average grade.  Weekday drinking was the variable most strongly associated with lower grades, whereas a stated desire to pursue higher education was linked to higher academic performance. "
      ],
      "metadata": {
        "id": "V5H-nx_flclx"
      }
    },
    {
      "cell_type": "markdown",
      "source": [
        "The regression model based solely on the students from Mousinho da Silveira is summarized below:"
      ],
      "metadata": {
        "id": "zIi0c47Smaor"
      }
    },
    {
      "cell_type": "markdown",
      "source": [
        "|                             |    estimate |   standard error |   Difference from Joint |\n",
        "|:----------------------------|------------:|-----------------:|------------------------:|\n",
        "| Workday Alc_High            | -4.09783    |        1.53675   |             2.8589      |\n",
        "| Mother Edu_Secondary Edu    | -1.92202    |        1.96425   |             1.64264     |\n",
        "| Mother Edu_5th to 9th Grade | -1.37912    |        1.93076   |             0.976528    |\n",
        "| Mother Edu_Primary Edu      | -1.30188    |        1.91604   |             0.597975    |\n",
        "| Family Quality_Low          | -1.2772     |        1.08286   |             0.588038    |\n",
        "| Family Quality_Very Low     | -1.07758    |        1.04357   |             0.293244    |\n",
        "| Workday Alc_Low             | -1.07189    |        0.883686  |             1.17726     |\n",
        "| Workday Alc_Very High       | -0.929081   |        1.6452    |             0.371686    |\n",
        "| Workday Alc_Very Low        | -0.89865    |        0.848806  |             1.30542     |\n",
        "| Mother Edu_Higher Edu       | -0.762647   |        2.02905   |             1.09538     |\n",
        "| Health_Fair                 | -0.723101   |        0.741075  |             0.48119     |\n",
        "| Family Support_Yes          | -0.677736   |        0.418434  |             0.49573     |\n",
        "| Health_Very Good            | -0.669749   |        0.636014  |             0.215635    |\n",
        "| Study Time_< 2 hours        | -0.13417    |        0.472205  |            -0.404659    |\n",
        "| Weekend Alc_Very High       | -0.0611599  |        1.27143   |             0.000384075 |\n",
        "| Relationship_Yes            | -0.0570505  |        0.419445  |            -0.320488    |\n",
        "| School Absences             | -0.00738987 |        0.0718987 |            -0.0166092   |\n",
        "| Family Quality_Very High    |  0.00677818 |        0.703499  |            -0.15504     |\n",
        "| Activities_Yes              |  0.0243144  |        0.422592  |             0.131271    |\n",
        "| Internet_Yes                |  0.065005   |        0.442509  |             0.426054    |\n",
        "| Paid Classes_Yes            |  0.176418   |        0.890706  |            -0.870694    |\n",
        "| Weekend Alc_High            |  0.296347   |        0.7312    |            -0.668052    |\n",
        "| Father Edu_Primary Edu      |  0.35863    |        1.69641   |            -0.724201    |\n",
        "| School Support_Yes          |  0.455679   |        0.973484  |            -1.4271      |\n",
        "| Health_Very Bad             |  0.71899    |        0.729183  |            -0.345095    |\n",
        "| Study Time_5 to 10 hours    |  0.727689   |        0.707706  |             0.0258085   |\n",
        "| Health_Good                 |  0.872533   |        0.771487  |            -0.586975    |\n",
        "| Father Edu_5th to 9th Grade |  0.913915   |        1.69325   |            -0.948521    |\n",
        "| Weekend Alc_Low             |  1.09753    |        0.62962   |            -0.859428    |\n",
        "| Parent Status_Together      |  1.11818    |        0.704013  |            -1.00058     |\n",
        "| Family Size_Small           |  1.11897    |        0.475387  |            -0.7752      |\n",
        "| Family Quality_High         |  1.15762    |        0.653976  |            -0.73741     |\n",
        "| Weekend Alc_Very Low        |  1.31664    |        0.623281  |            -1.14022     |\n",
        "| Study Time_> 10 hours       |  1.82182    |        1.14429   |            -0.704326    |\n",
        "| Wants Higher Edu_Yes        |  2.06966    |        0.569257  |             0.214722    |\n",
        "| Father Edu_Secondary Edu    |  2.07872    |        1.79019   |            -1.96433     |\n",
        "| Father Edu_Higher Edu       |  2.11437    |        1.92667   |            -1.67612     |\n",
        "| intercept                   |  7.80509    |        2.43849   |             1.53762     |\n",
        "> **Table 7**: Regression coefficients and standard errors, and difference from the joint model coefficients for the predictor variables in the Mousinho da Silveira model, ordered by ascending coeficient size.  Variables with coefficients within two standard errors of 0 have been removed."
      ],
      "metadata": {
        "id": "84AMRielkJTa"
      }
    },
    {
      "cell_type": "markdown",
      "source": [
        "Weekday drinking was still strongly associated with lower grades, and wanting a college education continued to be linked to higher grades, but now in third place rather than first. In this model, parental education levels were much more important for predicting grades than in the joint model.  The proportion of variation explaned by this model was 34%."
      ],
      "metadata": {
        "id": "c9YUIdGcm5T0"
      }
    },
    {
      "cell_type": "markdown",
      "source": [
        "Finally, a model was built for the Gabriel Pereira data set."
      ],
      "metadata": {
        "id": "H19roMzAn5Iq"
      }
    },
    {
      "cell_type": "markdown",
      "source": [
        "|                             |   estimate |   standard error |   Difference from Joint |\n",
        "|:----------------------------|-----------:|-----------------:|------------------------:|\n",
        "| School Support_Yes          | -1.51675   |        0.303916  |              0.545325   |\n",
        "| Weekend Alc_High            | -1.06833   |        0.379535  |              0.69662    |\n",
        "| Paid Classes_Yes            | -0.773921  |        0.424605  |              0.0796443  |\n",
        "| Weekend Alc_Very High       | -0.717833  |        0.525037  |              0.657057   |\n",
        "| Health_Very Good            | -0.631264  |        0.345631  |              0.177151   |\n",
        "| Mother Edu_Primary Edu      | -0.582998  |        1.2353    |             -0.120909   |\n",
        "| Father Edu_Secondary Edu    | -0.497618  |        1.22665   |              0.612006   |\n",
        "| Mother Edu_5th to 9th Grade | -0.478917  |        1.21657   |              0.0763225  |\n",
        "| Study Time_< 2 hours        | -0.477441  |        0.254548  |             -0.061389   |\n",
        "| Weekend Alc_Very Low        | -0.472076  |        0.3145    |              0.648489   |\n",
        "| Parent Status_Together      | -0.435     |        0.320865  |              0.552597   |\n",
        "| Relationship_Yes            | -0.375706  |        0.221197  |             -0.001832   |\n",
        "| Father Edu_Primary Edu      | -0.353226  |        1.21509   |             -0.0123453  |\n",
        "| Health_Good                 | -0.275293  |        0.388319  |              0.560851   |\n",
        "| Health_Fair                 | -0.27129   |        0.380556  |              0.0293793  |\n",
        "| Weekend Alc_Low             | -0.252424  |        0.324364  |              0.490524   |\n",
        "| Father Edu_5th to 9th Grade | -0.158841  |        1.21925   |              0.124235   |\n",
        "| Mother Edu_Secondary Edu    | -0.153254  |        1.22595   |             -0.126132   |\n",
        "| Family Quality_Very High    | -0.150438  |        0.31633   |              0.00217542 |\n",
        "| Father Edu_Higher Edu       | -0.120698  |        1.23427   |              0.558941   |\n",
        "| School Absences             | -0.0513061 |        0.0206134 |              0.027307   |\n",
        "| Family Size_Small           | -0.0269795 |        0.233337  |              0.370754   |\n",
        "| Family Quality_Low          |  0.0239312 |        0.556256  |             -0.713088   |\n",
        "| Family Support_Yes          |  0.0819369 |        0.217155  |             -0.263943   |\n",
        "| Health_Very Bad             |  0.09413   |        0.418357  |              0.279765   |\n",
        "| Family Quality_High         |  0.102123  |        0.286538  |              0.318084   |\n",
        "| Internet_Yes                |  0.270756  |        0.285494  |              0.220302   |\n",
        "| Mother Edu_Higher Edu       |  0.27138   |        1.23389   |              0.0613548  |\n",
        "| Family Quality_Very Low     |  0.292457  |        0.751212  |             -1.0768     |\n",
        "| Study Time_5 to 10 hours    |  0.312226  |        0.293246  |              0.441272   |\n",
        "| Workday Alc_Very High       |  0.326477  |        0.840806  |             -0.883873   |\n",
        "| Activities_Yes              |  0.329199  |        0.208268  |             -0.173614   |\n",
        "| Workday Alc_High            |  0.520286  |        0.747933  |             -1.75921    |\n",
        "| Study Time_> 10 hours       |  0.539523  |        0.430742  |              0.577974   |\n",
        "| Workday Alc_Low             |  0.739825  |        0.521296  |             -0.634459   |\n",
        "| Workday Alc_Very Low        |  1.06996   |        0.529284  |             -0.663194   |\n",
        "| Wants Higher Edu_Yes        |  2.47686   |        0.405218  |             -0.192472   |\n",
        "| intercept                   | 10.8029    |        1.86735   |             -1.46023    |\n",
        "> **Table 8**: Regression coefficients and standard errors, and difference from the joint model coefficients for the predictor variables in the Gabriel Pereira model, ordered by ascending coeficient size.  Variables with coefficients within two standard errors of 0 have been removed."
      ],
      "metadata": {
        "id": "hI3SJPY_kjMC"
      }
    },
    {
      "cell_type": "markdown",
      "source": [
        "This time, receiving extra support in school had the lowest coefficient, displacing weekday drinking.  Having higher education as a goal was again the best predicter of academic success.  Unlike the other school model, parental education levels were not particularly important here.  The proportion of variance explained by this model was 35%, almost the same as the Mousinho da Silveira model."
      ],
      "metadata": {
        "id": "rMNOa965oGWp"
      }
    },
    {
      "cell_type": "markdown",
      "source": [
        "---\n",
        "# 5. Discussion\n"
      ],
      "metadata": {
        "id": "NR53F8RDsdZf"
      }
    },
    {
      "cell_type": "markdown",
      "source": [
        "Before making sweeping conclusions about the nature of education and what influences academic success based on these results, the limitations of the model and the data should be recalled.  Based on how the data was collected, the scope of inference is limited to the sample itself and extrapolation to the broader population cannot be justified.  Furthermore, linear regression modeling rests on several assumptions, including independent observations and a linear relationship between the features of the model and the variable to be predicted.  We cannot be sure that the assumptions hold perfectly true here.  The models described here should be thought of as a cursory analysis to get a very rough understanding of the associations between the variables present in the data set.  Finally, the best model only explained 35% of the total variance in average grade, so even the variables with the largest coefficient magnitudes have in reality only modest predictive power.\n",
        "\n",
        "With that being said, several interesting observations can be made from these models.  While many of the coefficients had the expected sign, a few interesting exceptions stood out.  For example, receiving extra support in school was strongly associated with lower academic performance.  Our interpretation of this counterintuitive result is that the students who received the extra resources were likely chosen because they were underperforming in school in the first place.  This highlights the difficulty of interpreting regression coefficients, as a naive analyst might come to the mistaken conclusion that getting extra help in school lowers your grade.  We were also surprised by how much variation there was between the joint and school models.  Parental education was hugely important in one school, but not particularly helpful in the other, while many other variables had their coefficient values change substantially, some switching sign entirely.\n",
        "\n",
        "This project was a great introduction to model building using real data, and the results (especially compared to the findings in the paper the data originally came from) show the need for more sophisticated, flexible models to tackle situations as complex and multicausal as education.\n"
      ],
      "metadata": {
        "id": "pjCj3YCYo0Zm"
      }
    }
  ],
  "metadata": {
    "kernelspec": {
      "display_name": "Python 3",
      "language": "python",
      "name": "python3"
    },
    "language_info": {
      "codemirror_mode": {
        "name": "ipython",
        "version": 3
      },
      "file_extension": ".py",
      "mimetype": "text/x-python",
      "name": "python",
      "nbconvert_exporter": "python",
      "pygments_lexer": "ipython3",
      "version": "3.7.12"
    },
    "colab": {
      "provenance": [],
      "collapsed_sections": []
    }
  },
  "nbformat": 4,
  "nbformat_minor": 0
}

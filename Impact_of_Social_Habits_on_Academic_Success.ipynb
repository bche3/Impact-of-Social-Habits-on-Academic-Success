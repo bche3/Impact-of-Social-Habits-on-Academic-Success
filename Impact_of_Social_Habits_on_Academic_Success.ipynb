{
  "cells": [
    {
      "cell_type": "markdown",
      "metadata": {
        "id": "TMnSMh1OCgrA"
      },
      "source": [
        "# Students' Family Background and Social Habits in association with Academic Success\n",
        "\n",
        "Brian Che\n",
        "\n",
        " \n",
        "\n",
        "## Abstract"
      ]
    },
    {
      "cell_type": "markdown",
      "source": [
        "As students who are trying to maintain a respectable GPA, we're curious about all the different factors that might influence academic performace, from family background to social habits to study skills and beyond. We were therefore excited to read the paper this data set came from, which used several sophisticated models to try to untangle the relationships between these variables based on information collected at a pair of Portuguese schools.  We wanted to see how well a multiple regression model could use the information about each student to predict their average grades, and what the feature coefficients might suggest about the relative importance of family, relationships, and study skills when it comes to school.  Furthermore, would each school have its own pattern to unravel, or would both institutions exhibit the same associations?  Our regression model only ended up explaining about a third of the total variance, and we did notice that there were striking differences between schools in terms of variable coefficients.  The most consistent result was that if you want a high GPA, save the drinking for the weekend."
      ],
      "metadata": {
        "id": "3036kfo1smhY"
      }
    },
    {
      "cell_type": "markdown",
      "source": [
        "---\n",
        "# 0. Background"
      ],
      "metadata": {
        "id": "G3Ya3KazrU8X"
      }
    },
    {
      "cell_type": "markdown",
      "source": [
        "The topic of our project is seeing how certain social, demographic, and family factors affect secondary school Portuguese class student performance. Our goal is to see if any factors included in the study affect educational success/failure. Some of the factors we will be looking at are student sex and age, parent education and career status, and alcohol consumption. The motivation for collecting the kind of data we are working with is to see what affects student achievement in Portugal; specifically in Portuguese class.\n"
      ],
      "metadata": {
        "id": "d4KjazWythW5"
      }
    },
    {
      "cell_type": "markdown",
      "source": [
        "---\n",
        "# 1. Aims\n",
        "\n",
        "## Questions of focus and Approaches\n",
        "\n",
        "Our first interest is the associations of students' family backgrounds (e.g. parents' education levels, family size, etc.) and social habits (e.g. going out with friends, alcohol consumption, etc.), along with more obvious study habits (e.g. study time, number of absences) have with academic success, which in this case is measured in average grade on a 20-point. The goal of our regression modeling is to help determine what variables, or sets of variables best explain student success.\n",
        "\n",
        "Our data set includes students from two separate schools. Different schools serve different communities, both geographic and socioeconomic, so it should not be assumed that the same associations are present in each of the two schools.  After analyzing the relationships between the variables for all students, we were interested in separating the data by school and seeing if those relationships persist or break down. In order to compare the associations at the school level, we repeated the above analysis for each of the schools and compared regression coefficients to the original model.\n"
      ],
      "metadata": {
        "id": "SrIQfnrxrYKa"
      }
    },
    {
      "cell_type": "markdown",
      "source": [
        "---\n",
        "# 2. Data Description\n",
        "\n",
        "#### Sample and Measurement Information\n",
        "The data are student data (i.e school grades, social, demographic factors) collected through school reports and questionnaires. It is from the 2005 - 2006 school year from two public schools in the Alentejo region of Portugal. The data was collected by Paulo Cortez and Alice Silva who are a part of the Department Information Systems/ Algorithmi R&D Centre at the University of Minho in Portugal.The data was collected through school reports and questionnaires. The school reports were on paper including information about previous school grades and number of school absences. The questionnaire includes information about alcohol consumption, parents' occupation and family income. \n",
        "\n",
        "The population of this dataset is students in secondary schooling in Portugal. The sampling frame is students from the two public schools Alentejo region of Portugal. The sample of this dataset is 788 students. The sampling scenario that this dataset is most similar to is administrative data because all units are selected from a convenient frame that partly covers the population, but the sampling frame doesn't completely align with the population. The sampling mechanism is the sample is a census of the frame.\n",
        "\n",
        "## Data Structure\n",
        "\n",
        "> **Table 1**: Variable descriptions and units for each variable in the dataset\n",
        "\n",
        "\n",
        "Name | Variable description | Type | Units of measurement\n",
        "---|---|---|---\n",
        "School | School attended by student | Categorical | Gabriel Pereira or Mousinho da Silveira\n",
        "Sex | Sex of student | Categorical | Female or Male\n",
        "Age | Student's age | Numeric | 15 - 22\n",
        "Family Size | Family size | Categorical | Small or Large\n",
        "Family Quality | Quality of family relationships | Categorical | Very Low - Very High\n",
        "Family Support | Family educational support | Categorical | Yes or No\n",
        "Parent Status | Parent's cohabitation status | Categorical | Together or apart\n",
        "Mother Edu | Mother's Education level | Categorical | Primary Education, 5th to 9th grade, Secondary Edu, or Higher Edu\n",
        "Father Edu | Father's Education level | Categorical | Primary Education, 5th to 9th grade, Secondary Edu, or Higher Edu\n",
        "Study Time | Weekly study time | Categorical | < 2 hours, 2 to 5 hours, 5 to 10 hours, > 10 hours\n",
        "School Support | Extra educational school support | Categorical | Yes or No\n",
        "Paid Classes | Extra paid classes | Categorical | Yes or No\n",
        "Activities | Extra-curricular activities | Categorical | Yes or No\n",
        "Wants Higher Edu | Wants to take higher education | Categorical | Yes or No\n",
        "Internet | Internet access at home | Categorical | Yes or No\n",
        "Relationship | With a romantic relationship | Categorical | Yes or No\n",
        "Workday Alc | Workday alcohol consumption | Categorical | Very Low - Very High\n",
        "Weekend Alc | Weekend alcohol consumption | Categorical | Very Low - Very High\n",
        "Health | Current health status | Categorical | Very Bad - Very Good\n",
        "School Absences | Number of school absences | Numeric | 0 - 93\n",
        "Average Grade | Average of the three periods of grades | Numeric | 0 - 20"
      ],
      "metadata": {
        "id": "hhzl7l8irhnv"
      }
    },
    {
      "cell_type": "markdown",
      "source": [
        "> **Table 2**: Three example rows of the student alcohol consumption data for both schools\n",
        "\n",
        "Row | School | Sex | Age | Family Size | Family Quality | Family Support | Parent Status|Mother Edu|Father Edu|Study Time|School Absences|School Support|Paid Classes|Activities|Wants Higher Edu|Internet|Relationship|Workday Alc|Weekend Alc|Health|Average Grade\n",
        "---|---|---|---|---|---|---|---|---|---|---|---|---|---|---|---|---|---|---|---|---|---\n",
        "0 | Gabriel Pereira | F     |    18 | Large         | High             | No               | Apart           | Higher Edu   | Higher Edu   | 2 to 5 hours |                 4 | Yes              | No             | No           | Yes                | No         | No             | Very Low      | Very Low      | Fair     |         7.33333\n",
        "1 | Gabriel Pereira | F     |    17 | Large         | Very High        | Yes              | Together        | Primary Edu  | Primary Edu  | 2 to 5 hours |                 2 | No               | No             | No           | Yes                | Yes        | No             | Very Low      | Very Low      | Fair     |        10.3333\n",
        " 2 | Gabriel Pereira | F     |    15 | Small         | High             | No               | Together        | Primary Edu  | Primary Edu  | 2 to 5 hours |                 6 | Yes              | No             | No           | Yes                | Yes        | No             | Low           | Average       | Fair     |        12.3333 \n"
      ],
      "metadata": {
        "id": "FxqPSgY_zsSO"
      }
    },
    {
      "cell_type": "markdown",
      "source": [
        "> **Table 3**: Three example rows of the student alcohol consumption data for Gabriel Pereira school\n",
        "\n",
        "Row | School | Sex | Age | Family Size | Family Quality | Family Support | Parent Status|Mother Edu|Father Edu|Study Time|School Absences|School Support|Paid Classes|Activities|Wants Higher Edu|Internet|Relationship|Workday Alc|Weekend Alc|Health|Average Grade\n",
        "---|---|---|---|---|---|---|---|---|---|---|---|---|---|---|---|---|---|---|---|---|---\n",
        "0 | Gabriel Pereira | F     |    18 | Large         | High             | No               | Apart           | Higher Edu   | Higher Edu   | 2 to 5 hours |                 4 | Yes              | No             | No           | Yes                | No         | No             | Very Low      | Very Low      | Fair     |         7.33333\n",
        " 1 | Gabriel Pereira | F     |    17 | Large         | Very High        | Yes              | Together        | Primary Edu  | Primary Edu  | 2 to 5 hours |                 2 | No               | No             | No           | Yes                | Yes        | No             | Very Low      | Very Low      | Fair     |        10.3333\n",
        "2 | Gabriel Pereira | F     |    15 | Small         | High             | No               | Together        | Primary Edu  | Primary Edu  | 2 to 5 hours |                 6 | Yes              | No             | No           | Yes                | Yes        | No             | Low           | Average       | Fair     |        12.3333"
      ],
      "metadata": {
        "id": "qFdPtw5l1jQo"
      }
    },
    {
      "cell_type": "markdown",
      "source": [
        "> **Table 4**: Three example rows of the student alcohol consumption for Mousinho da Silveira school\n",
        "\n",
        "Row | School | Sex | Age | Family Size | Family Quality | Family Support | Parent Status|Mother Edu|Father Edu|Study Time|School Absences|School Support|Paid Classes|Activities|Wants Higher Edu|Internet|Relationship|Workday Alc|Weekend Alc|Health|Average Grade\n",
        "---|---|---|---|---|---|---|---|---|---|---|---|---|---|---|---|---|---|---|---|---|---\n",
        "0 | Mousinho da Silveira | F     |    16 | Large         | High             | Yes              | Together        | Primary Edu      | Secondary Edu    | < 2 hours    |                11 | No               | No             | No           | No                 | Yes        | Yes            | Very Low      | Average       | Very Good |         10.6667\n",
        "1 | Mousinho da Silveira | F     |    16 | Large         | High             | Yes              | Together        | 5th to 9th Grade | 5th to 9th Grade | 2 to 5 hours |                 0 | No               | No             | Yes          | Yes                | Yes        | No             | Very Low      | Very Low      | Very Good |         12\n",
        "2 | Mousinho da Silveira | F     |    15 | Large         | High             | Yes              | Together        | Primary Edu      | Primary Edu      | < 2 hours    |                 6 | No               | No             | No           | Yes                | No         | Yes            | Very Low      | Very Low      | Bad       |         10 "
      ],
      "metadata": {
        "id": "EBSgJV702daf"
      }
    },
    {
      "cell_type": "markdown",
      "source": [
        "---\n",
        "# 3. Methods"
      ],
      "metadata": {
        "id": "mq8M268ssV0v"
      }
    },
    {
      "cell_type": "markdown",
      "source": [
        "![visualization.svg](data:image/svg+xml;base64,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)\n",
        "\n",
        "> **Figure 1**:  A heatmap representing the correlation matrix of the numerical variables.  Hotter colors represent strong, positive correlation between variables, while cooler colors represent strong, negative correlations.  Pale colors denote weak correlations."
      ],
      "metadata": {
        "id": "SvyXLKSLzAs-"
      }
    },
    {
      "cell_type": "markdown",
      "source": [
        "This is a heat map graph of all the numerical variables from the original table of por_joint which contains all data from both schools. As we can tell from the heatmap, Grade 1,2, 3 are too highly corrlated, so much so that it's clear they're all just capturing the same information.  For the model itself, the grades were averaged into a single variable.  For the same reason, number of classes failed was ignored during model building.  Age was also excluded."
      ],
      "metadata": {
        "id": "KPILqZFfzetB"
      }
    },
    {
      "cell_type": "markdown",
      "source": [
        "![visualization (2).svg](data:image/svg+xml;base64,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)\n",
        "\n",
        ">**Fig 2**: Loadings of the first two principle components."
      ],
      "metadata": {
        "id": "o-sfHadZzjPs"
      }
    },
    {
      "cell_type": "markdown",
      "source": [
        "This is a graph of the loadings of first 2 principle components with respects to different variables. From the graph, we can tell that grade 1,2,3 has negative loadings with respect to PC1, but positive loadings to PC2. Age, absences and failures have positve loadings to both PC1 and PC2. Again, some of these variables are capturing the same information, which is why some variable selection was necessary before bulding the model.  "
      ],
      "metadata": {
        "id": "vrcogIyuzvkh"
      }
    },
    {
      "cell_type": "markdown",
      "source": [
        "In order to capture the influence of the categorical variables in our model, they were converted to dummy variables, resulting in the preprocessed data set used for modeling displayed below."
      ],
      "metadata": {
        "id": "MmOYY9go3IDY"
      }
    },
    {
      "cell_type": "markdown",
      "source": [
        "|    |   School Absences |   Family Size_Small |   Family Quality_High |   Family Quality_Low |   Family Quality_Very High |   Family Quality_Very Low |   Family Support_Yes |   Parent Status_Together |   Mother Edu_5th to 9th Grade |   Mother Edu_Higher Edu |   Mother Edu_Primary Edu |   Mother Edu_Secondary Edu |   Father Edu_5th to 9th Grade |   Father Edu_Higher Edu |   Father Edu_Primary Edu |   Father Edu_Secondary Edu |   Study Time_5 to 10 hours |   Study Time_< 2 hours |   Study Time_> 10 hours |   School Support_Yes |   Paid Classes_Yes |   Activities_Yes |   Wants Higher Edu_Yes |   Internet_Yes |   Relationship_Yes |   Workday Alc_High |   Workday Alc_Low |   Workday Alc_Very High |   Workday Alc_Very Low |   Weekend Alc_High |   Weekend Alc_Low |   Weekend Alc_Very High |   Weekend Alc_Very Low |   Health_Fair |   Health_Good |   Health_Very Bad |   Health_Very Good |\n",
        "|---:|------------------:|--------------------:|----------------------:|---------------------:|---------------------------:|--------------------------:|---------------------:|-------------------------:|------------------------------:|------------------------:|-------------------------:|---------------------------:|------------------------------:|------------------------:|-------------------------:|---------------------------:|---------------------------:|-----------------------:|------------------------:|---------------------:|-------------------:|-----------------:|-----------------------:|---------------:|-------------------:|-------------------:|------------------:|------------------------:|-----------------------:|-------------------:|------------------:|------------------------:|-----------------------:|--------------:|--------------:|------------------:|-------------------:|\n",
        "|  0 |                 4 |                   0 |                     1 |                    0 |                          0 |                         0 |                    0 |                        0 |                             0 |                       1 |                        0 |                          0 |                             0 |                       1 |                        0 |                          0 |                          0 |                      0 |                       0 |                    1 |                  0 |                0 |                      1 |              0 |                  0 |                  0 |                 0 |                       0 |                      1 |                  0 |                 0 |                       0 |                      1 |             1 |             0 |                 0 |                  0 |\n",
        "|  1 |                 2 |                   0 |                     0 |                    0 |                          1 |                         0 |                    1 |                        1 |                             0 |                       0 |                        1 |                          0 |                             0 |                       0 |                        1 |                          0 |                          0 |                      0 |                       0 |                    0 |                  0 |                0 |                      1 |              1 |                  0 |                  0 |                 0 |                       0 |                      1 |                  0 |                 0 |                       0 |                      1 |             1 |             0 |                 0 |                  0 |\n",
        "|  2 |                 6 |                   1 |                     1 |                    0 |                          0 |                         0 |                    0 |                        1 |                             0 |                       0 |                        1 |                          0 |                             0 |                       0 |                        1 |                          0 |                          0 |                      0 |                       0 |                    1 |                  0 |                0 |                      1 |              1 |                  0 |                  0 |                 1 |                       0 |                      0 |                  0 |                 0 |                       0 |                      0 |             1 |             0 |                 0 |                  0 |\n",
        "|  3 |                 0 |                   0 |                     0 |                    0 |                          0 |                         0 |                    1 |                        1 |                             0 |                       1 |                        0 |                          0 |                             1 |                       0 |                        0 |                          0 |                          1 |                      0 |                       0 |                    0 |                  0 |                1 |                      1 |              1 |                  1 |                  0 |                 0 |                       0 |                      1 |                  0 |                 0 |                       0 |                      1 |             0 |             0 |                 0 |                  1 |\n",
        "|  4 |                 0 |                   0 |                     1 |                    0 |                          0 |                         0 |                    1 |                        1 |                             0 |                       0 |                        0 |                          1 |                             0 |                       0 |                        0 |                          1 |                          0 |                      0 |                       0 |                    0 |                  0 |                0 |                      1 |              0 |                  0 |                  0 |                 0 |                       0 |                      1 |                  0 |                 1 |                       0 |                      0 |             0 |             0 |                 0 |                  1 |\n",
        "\n",
        ">**Table 5**: The first 5 entries of the preprocessed data set"
      ],
      "metadata": {
        "id": "OvSSDWLm3czG"
      }
    },
    {
      "cell_type": "markdown",
      "source": [
        "---\n",
        "# 4. Results"
      ],
      "metadata": {
        "id": "o9ChGWsnsZwr"
      }
    },
    {
      "cell_type": "markdown",
      "source": [
        "The results of the linear regression for the full data set are shown below:"
      ],
      "metadata": {
        "id": "2SKXIoKwhvcF"
      }
    },
    {
      "cell_type": "markdown",
      "source": [
        "|                             |   estimate |   standard error |\n",
        "|:----------------------------|-----------:|-----------------:|\n",
        "| Workday Alc_High            | -1.23893   |        0.721055  |\n",
        "| School Support_Yes          | -0.971422  |        0.328909  |\n",
        "| Family Quality_Very Low     | -0.78434   |        0.602299  |\n",
        "| Mother Edu_Primary Edu      | -0.703907  |        1.05939   |\n",
        "| Paid Classes_Yes            | -0.694276  |        0.416002  |\n",
        "| Family Quality_Low          | -0.689157  |        0.524873  |\n",
        "| Workday Alc_Very High       | -0.557395  |        0.790854  |\n",
        "| Study Time_< 2 hours        | -0.53883   |        0.238117  |\n",
        "| Health_Very Good            | -0.454113  |        0.324775  |\n",
        "| Mother Edu_5th to 9th Grade | -0.402595  |        1.06115   |\n",
        "| Relationship_Yes            | -0.377538  |        0.210527  |\n",
        "| Weekend Alc_High            | -0.371705  |        0.362176  |\n",
        "| Father Edu_Primary Edu      | -0.365572  |        0.985891  |\n",
        "| Mother Edu_Secondary Edu    | -0.279386  |        1.07228   |\n",
        "| Health_Fair                 | -0.241911  |        0.364296  |\n",
        "| Family Support_Yes          | -0.182006  |        0.207773  |\n",
        "| Family Quality_Very High    | -0.148262  |        0.316036  |\n",
        "| Weekend Alc_Very High       | -0.0607758 |        0.533744  |\n",
        "| Father Edu_5th to 9th Grade | -0.0346053 |        0.993233  |\n",
        "| School Absences             | -0.023999  |        0.0220844 |\n",
        "| Workday Alc_Low             |  0.105365  |        0.467251  |\n",
        "| Father Edu_Secondary Edu    |  0.114387  |        1.01192   |\n",
        "| Parent Status_Together      |  0.117596  |        0.317731  |\n",
        "| Activities_Yes              |  0.155585  |        0.201141  |\n",
        "| Weekend Alc_Very Low        |  0.176413  |        0.305379  |\n",
        "| Weekend Alc_Low             |  0.238099  |        0.311247  |\n",
        "| Health_Good                 |  0.285558  |        0.372684  |\n",
        "| Mother Edu_Higher Edu       |  0.332734  |        1.08024   |\n",
        "| Family Size_Small           |  0.343774  |        0.223142  |\n",
        "| Health_Very Bad             |  0.373895  |        0.388309  |\n",
        "| Workday Alc_Very Low        |  0.406766  |        0.465474  |\n",
        "| Family Quality_High         |  0.420206  |        0.290454  |\n",
        "| Father Edu_Higher Edu       |  0.438244  |        1.02384   |\n",
        "| Internet_Yes                |  0.491059  |        0.24534   |\n",
        "| Study Time_5 to 10 hours    |  0.753497  |        0.295393  |\n",
        "| Study Time_> 10 hours       |  1.1175    |        0.453911  |\n",
        "| Wants Higher Edu_Yes        |  2.28439   |        0.338025  |\n",
        "| intercept                   |  9.3427    |        1.48917   |\n",
        "\n",
        "> **Table 6**: Regression coefficients and standard errors for the predictor variables in the joint model, ordered by ascending coeficient size.  Variables with coefficients within two standard errors of 0 have been removed."
      ],
      "metadata": {
        "id": "WKe1KuJFjHCI"
      }
    },
    {
      "cell_type": "markdown",
      "source": [
        "The $R^2$ value for the joint model was 0.29, meaning the model explained about 29% of the total variance in average grade.  Weekday drinking was the variable most strongly associated with lower grades, whereas a stated desire to pursue higher education was linked to higher academic performance. "
      ],
      "metadata": {
        "id": "V5H-nx_flclx"
      }
    },
    {
      "cell_type": "markdown",
      "source": [
        "The regression model based solely on the students from Mousinho da Silveira is summarized below:"
      ],
      "metadata": {
        "id": "zIi0c47Smaor"
      }
    },
    {
      "cell_type": "markdown",
      "source": [
        "|                             |    estimate |   standard error |   Difference from Joint |\n",
        "|:----------------------------|------------:|-----------------:|------------------------:|\n",
        "| Workday Alc_High            | -4.09783    |        1.53675   |             2.8589      |\n",
        "| Mother Edu_Secondary Edu    | -1.92202    |        1.96425   |             1.64264     |\n",
        "| Mother Edu_5th to 9th Grade | -1.37912    |        1.93076   |             0.976528    |\n",
        "| Mother Edu_Primary Edu      | -1.30188    |        1.91604   |             0.597975    |\n",
        "| Family Quality_Low          | -1.2772     |        1.08286   |             0.588038    |\n",
        "| Family Quality_Very Low     | -1.07758    |        1.04357   |             0.293244    |\n",
        "| Workday Alc_Low             | -1.07189    |        0.883686  |             1.17726     |\n",
        "| Workday Alc_Very High       | -0.929081   |        1.6452    |             0.371686    |\n",
        "| Workday Alc_Very Low        | -0.89865    |        0.848806  |             1.30542     |\n",
        "| Mother Edu_Higher Edu       | -0.762647   |        2.02905   |             1.09538     |\n",
        "| Health_Fair                 | -0.723101   |        0.741075  |             0.48119     |\n",
        "| Family Support_Yes          | -0.677736   |        0.418434  |             0.49573     |\n",
        "| Health_Very Good            | -0.669749   |        0.636014  |             0.215635    |\n",
        "| Study Time_< 2 hours        | -0.13417    |        0.472205  |            -0.404659    |\n",
        "| Weekend Alc_Very High       | -0.0611599  |        1.27143   |             0.000384075 |\n",
        "| Relationship_Yes            | -0.0570505  |        0.419445  |            -0.320488    |\n",
        "| School Absences             | -0.00738987 |        0.0718987 |            -0.0166092   |\n",
        "| Family Quality_Very High    |  0.00677818 |        0.703499  |            -0.15504     |\n",
        "| Activities_Yes              |  0.0243144  |        0.422592  |             0.131271    |\n",
        "| Internet_Yes                |  0.065005   |        0.442509  |             0.426054    |\n",
        "| Paid Classes_Yes            |  0.176418   |        0.890706  |            -0.870694    |\n",
        "| Weekend Alc_High            |  0.296347   |        0.7312    |            -0.668052    |\n",
        "| Father Edu_Primary Edu      |  0.35863    |        1.69641   |            -0.724201    |\n",
        "| School Support_Yes          |  0.455679   |        0.973484  |            -1.4271      |\n",
        "| Health_Very Bad             |  0.71899    |        0.729183  |            -0.345095    |\n",
        "| Study Time_5 to 10 hours    |  0.727689   |        0.707706  |             0.0258085   |\n",
        "| Health_Good                 |  0.872533   |        0.771487  |            -0.586975    |\n",
        "| Father Edu_5th to 9th Grade |  0.913915   |        1.69325   |            -0.948521    |\n",
        "| Weekend Alc_Low             |  1.09753    |        0.62962   |            -0.859428    |\n",
        "| Parent Status_Together      |  1.11818    |        0.704013  |            -1.00058     |\n",
        "| Family Size_Small           |  1.11897    |        0.475387  |            -0.7752      |\n",
        "| Family Quality_High         |  1.15762    |        0.653976  |            -0.73741     |\n",
        "| Weekend Alc_Very Low        |  1.31664    |        0.623281  |            -1.14022     |\n",
        "| Study Time_> 10 hours       |  1.82182    |        1.14429   |            -0.704326    |\n",
        "| Wants Higher Edu_Yes        |  2.06966    |        0.569257  |             0.214722    |\n",
        "| Father Edu_Secondary Edu    |  2.07872    |        1.79019   |            -1.96433     |\n",
        "| Father Edu_Higher Edu       |  2.11437    |        1.92667   |            -1.67612     |\n",
        "| intercept                   |  7.80509    |        2.43849   |             1.53762     |\n",
        "> **Table 7**: Regression coefficients and standard errors, and difference from the joint model coefficients for the predictor variables in the Mousinho da Silveira model, ordered by ascending coeficient size.  Variables with coefficients within two standard errors of 0 have been removed."
      ],
      "metadata": {
        "id": "84AMRielkJTa"
      }
    },
    {
      "cell_type": "markdown",
      "source": [
        "Weekday drinking was still strongly associated with lower grades, and wanting a college education continued to be linked to higher grades, but now in third place rather than first. In this model, parental education levels were much more important for predicting grades than in the joint model.  The proportion of variation explaned by this model was 34%."
      ],
      "metadata": {
        "id": "c9YUIdGcm5T0"
      }
    },
    {
      "cell_type": "markdown",
      "source": [
        "Finally, a model was built for the Gabriel Pereira data set."
      ],
      "metadata": {
        "id": "H19roMzAn5Iq"
      }
    },
    {
      "cell_type": "markdown",
      "source": [
        "|                             |   estimate |   standard error |   Difference from Joint |\n",
        "|:----------------------------|-----------:|-----------------:|------------------------:|\n",
        "| School Support_Yes          | -1.51675   |        0.303916  |              0.545325   |\n",
        "| Weekend Alc_High            | -1.06833   |        0.379535  |              0.69662    |\n",
        "| Paid Classes_Yes            | -0.773921  |        0.424605  |              0.0796443  |\n",
        "| Weekend Alc_Very High       | -0.717833  |        0.525037  |              0.657057   |\n",
        "| Health_Very Good            | -0.631264  |        0.345631  |              0.177151   |\n",
        "| Mother Edu_Primary Edu      | -0.582998  |        1.2353    |             -0.120909   |\n",
        "| Father Edu_Secondary Edu    | -0.497618  |        1.22665   |              0.612006   |\n",
        "| Mother Edu_5th to 9th Grade | -0.478917  |        1.21657   |              0.0763225  |\n",
        "| Study Time_< 2 hours        | -0.477441  |        0.254548  |             -0.061389   |\n",
        "| Weekend Alc_Very Low        | -0.472076  |        0.3145    |              0.648489   |\n",
        "| Parent Status_Together      | -0.435     |        0.320865  |              0.552597   |\n",
        "| Relationship_Yes            | -0.375706  |        0.221197  |             -0.001832   |\n",
        "| Father Edu_Primary Edu      | -0.353226  |        1.21509   |             -0.0123453  |\n",
        "| Health_Good                 | -0.275293  |        0.388319  |              0.560851   |\n",
        "| Health_Fair                 | -0.27129   |        0.380556  |              0.0293793  |\n",
        "| Weekend Alc_Low             | -0.252424  |        0.324364  |              0.490524   |\n",
        "| Father Edu_5th to 9th Grade | -0.158841  |        1.21925   |              0.124235   |\n",
        "| Mother Edu_Secondary Edu    | -0.153254  |        1.22595   |             -0.126132   |\n",
        "| Family Quality_Very High    | -0.150438  |        0.31633   |              0.00217542 |\n",
        "| Father Edu_Higher Edu       | -0.120698  |        1.23427   |              0.558941   |\n",
        "| School Absences             | -0.0513061 |        0.0206134 |              0.027307   |\n",
        "| Family Size_Small           | -0.0269795 |        0.233337  |              0.370754   |\n",
        "| Family Quality_Low          |  0.0239312 |        0.556256  |             -0.713088   |\n",
        "| Family Support_Yes          |  0.0819369 |        0.217155  |             -0.263943   |\n",
        "| Health_Very Bad             |  0.09413   |        0.418357  |              0.279765   |\n",
        "| Family Quality_High         |  0.102123  |        0.286538  |              0.318084   |\n",
        "| Internet_Yes                |  0.270756  |        0.285494  |              0.220302   |\n",
        "| Mother Edu_Higher Edu       |  0.27138   |        1.23389   |              0.0613548  |\n",
        "| Family Quality_Very Low     |  0.292457  |        0.751212  |             -1.0768     |\n",
        "| Study Time_5 to 10 hours    |  0.312226  |        0.293246  |              0.441272   |\n",
        "| Workday Alc_Very High       |  0.326477  |        0.840806  |             -0.883873   |\n",
        "| Activities_Yes              |  0.329199  |        0.208268  |             -0.173614   |\n",
        "| Workday Alc_High            |  0.520286  |        0.747933  |             -1.75921    |\n",
        "| Study Time_> 10 hours       |  0.539523  |        0.430742  |              0.577974   |\n",
        "| Workday Alc_Low             |  0.739825  |        0.521296  |             -0.634459   |\n",
        "| Workday Alc_Very Low        |  1.06996   |        0.529284  |             -0.663194   |\n",
        "| Wants Higher Edu_Yes        |  2.47686   |        0.405218  |             -0.192472   |\n",
        "| intercept                   | 10.8029    |        1.86735   |             -1.46023    |\n",
        "> **Table 8**: Regression coefficients and standard errors, and difference from the joint model coefficients for the predictor variables in the Gabriel Pereira model, ordered by ascending coeficient size.  Variables with coefficients within two standard errors of 0 have been removed."
      ],
      "metadata": {
        "id": "hI3SJPY_kjMC"
      }
    },
    {
      "cell_type": "markdown",
      "source": [
        "This time, receiving extra support in school had the lowest coefficient, displacing weekday drinking.  Having higher education as a goal was again the best predicter of academic success.  Unlike the other school model, parental education levels were not particularly important here.  The proportion of variance explained by this model was 35%, almost the same as the Mousinho da Silveira model."
      ],
      "metadata": {
        "id": "rMNOa965oGWp"
      }
    },
    {
      "cell_type": "markdown",
      "source": [
        "---\n",
        "# 5. Discussion\n"
      ],
      "metadata": {
        "id": "NR53F8RDsdZf"
      }
    },
    {
      "cell_type": "markdown",
      "source": [
        "Before making sweeping conclusions about the nature of education and what influences academic success based on these results, the limitations of the model and the data should be recalled.  Based on how the data was collected, the scope of inference is limited to the sample itself and extrapolation to the broader population cannot be justified.  Furthermore, linear regression modeling rests on several assumptions, including independent observations and a linear relationship between the features of the model and the variable to be predicted.  We cannot be sure that the assumptions hold perfectly true here.  The models described here should be thought of as a cursory analysis to get a very rough understanding of the associations between the variables present in the data set.  Finally, the best model only explained 35% of the total variance in average grade, so even the variables with the largest coefficient magnitudes have in reality only modest predictive power.\n",
        "\n",
        "With that being said, several interesting observations can be made from these models.  While many of the coefficients had the expected sign, a few interesting exceptions stood out.  For example, receiving extra support in school was strongly associated with lower academic performance.  Our interpretation of this counterintuitive result is that the students who received the extra resources were likely chosen because they were underperforming in school in the first place.  This highlights the difficulty of interpreting regression coefficients, as a naive analyst might come to the mistaken conclusion that getting extra help in school lowers your grade.  We were also surprised by how much variation there was between the joint and school models.  Parental education was hugely important in one school, but not particularly helpful in the other, while many other variables had their coefficient values change substantially, some switching sign entirely.\n",
        "\n",
        "This project was a great introduction to model building using real data, and the results (especially compared to the findings in the paper the data originally came from) show the need for more sophisticated, flexible models to tackle situations as complex and multicausal as education.\n"
      ],
      "metadata": {
        "id": "pjCj3YCYo0Zm"
      }
    }
  ],
  "metadata": {
    "kernelspec": {
      "display_name": "Python 3",
      "language": "python",
      "name": "python3"
    },
    "language_info": {
      "codemirror_mode": {
        "name": "ipython",
        "version": 3
      },
      "file_extension": ".py",
      "mimetype": "text/x-python",
      "name": "python",
      "nbconvert_exporter": "python",
      "pygments_lexer": "ipython3",
      "version": "3.7.12"
    },
    "colab": {
      "provenance": [],
      "collapsed_sections": []
    }
  },
  "nbformat": 4,
  "nbformat_minor": 0
}